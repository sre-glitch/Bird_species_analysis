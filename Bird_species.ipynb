{
  "nbformat": 4,
  "nbformat_minor": 0,
  "metadata": {
    "colab": {
      "provenance": [],
      "authorship_tag": "ABX9TyNwyymLNXdxyU3uKz5IMOPr",
      "include_colab_link": true
    },
    "kernelspec": {
      "name": "python3",
      "display_name": "Python 3"
    },
    "language_info": {
      "name": "python"
    }
  },
  "cells": [
    {
      "cell_type": "markdown",
      "metadata": {
        "id": "view-in-github",
        "colab_type": "text"
      },
      "source": [
        "<a href=\"https://colab.research.google.com/github/sre-glitch/Bird_species_analysis/blob/main/Bird_species.ipynb\" target=\"_parent\"><img src=\"https://colab.research.google.com/assets/colab-badge.svg\" alt=\"Open In Colab\"/></a>"
      ]
    },
    {
      "cell_type": "markdown",
      "source": [
        "# **PROJECT-**\n",
        "## **Bird Species Observation Analysis**\n",
        "***By Sreya Tulasi Kolasani***"
      ],
      "metadata": {
        "id": "kp5gw1rQnRjz"
      }
    },
    {
      "cell_type": "markdown",
      "source": [
        "# **GitHub Link:**"
      ],
      "metadata": {
        "id": "Rt5zWkv0n6MB"
      }
    },
    {
      "cell_type": "markdown",
      "source": [
        "# **Problem Statement:**\n",
        "The project aims to analyze the distribution and diversity of bird species in two distinct ecosystems: forests and grasslands. By examining bird species observations across these habitats, the goal is to understand how environmental factors, such as vegetation type, climate, and terrain, influence bird populations and their behavior. The study will involve working on the provided observational data of bird species present in both ecosystems, identifying patterns of habitat preference, and assessing the impact of these habitats on bird diversity. The findings can provide valuable insights into habitat conservation, biodiversity management, and the effects of environmental changes on avian communities.\n"
      ],
      "metadata": {
        "id": "vZwVygmFnl5-"
      }
    },
    {
      "cell_type": "markdown",
      "source": [
        "# **Import the files**"
      ],
      "metadata": {
        "id": "QXJRMjDEcl-b"
      }
    },
    {
      "cell_type": "code",
      "execution_count": null,
      "metadata": {
        "colab": {
          "base_uri": "https://localhost:8080/",
          "height": 109
        },
        "id": "C2LlikjCd13F",
        "outputId": "c589686b-e921-46f7-9532-5b728345c4ad"
      },
      "outputs": [
        {
          "output_type": "display_data",
          "data": {
            "text/plain": [
              "<IPython.core.display.HTML object>"
            ],
            "text/html": [
              "\n",
              "     <input type=\"file\" id=\"files-a315cb82-23c2-4853-a8b8-6c09e48cdf9c\" name=\"files[]\" multiple disabled\n",
              "        style=\"border:none\" />\n",
              "     <output id=\"result-a315cb82-23c2-4853-a8b8-6c09e48cdf9c\">\n",
              "      Upload widget is only available when the cell has been executed in the\n",
              "      current browser session. Please rerun this cell to enable.\n",
              "      </output>\n",
              "      <script>// Copyright 2017 Google LLC\n",
              "//\n",
              "// Licensed under the Apache License, Version 2.0 (the \"License\");\n",
              "// you may not use this file except in compliance with the License.\n",
              "// You may obtain a copy of the License at\n",
              "//\n",
              "//      http://www.apache.org/licenses/LICENSE-2.0\n",
              "//\n",
              "// Unless required by applicable law or agreed to in writing, software\n",
              "// distributed under the License is distributed on an \"AS IS\" BASIS,\n",
              "// WITHOUT WARRANTIES OR CONDITIONS OF ANY KIND, either express or implied.\n",
              "// See the License for the specific language governing permissions and\n",
              "// limitations under the License.\n",
              "\n",
              "/**\n",
              " * @fileoverview Helpers for google.colab Python module.\n",
              " */\n",
              "(function(scope) {\n",
              "function span(text, styleAttributes = {}) {\n",
              "  const element = document.createElement('span');\n",
              "  element.textContent = text;\n",
              "  for (const key of Object.keys(styleAttributes)) {\n",
              "    element.style[key] = styleAttributes[key];\n",
              "  }\n",
              "  return element;\n",
              "}\n",
              "\n",
              "// Max number of bytes which will be uploaded at a time.\n",
              "const MAX_PAYLOAD_SIZE = 100 * 1024;\n",
              "\n",
              "function _uploadFiles(inputId, outputId) {\n",
              "  const steps = uploadFilesStep(inputId, outputId);\n",
              "  const outputElement = document.getElementById(outputId);\n",
              "  // Cache steps on the outputElement to make it available for the next call\n",
              "  // to uploadFilesContinue from Python.\n",
              "  outputElement.steps = steps;\n",
              "\n",
              "  return _uploadFilesContinue(outputId);\n",
              "}\n",
              "\n",
              "// This is roughly an async generator (not supported in the browser yet),\n",
              "// where there are multiple asynchronous steps and the Python side is going\n",
              "// to poll for completion of each step.\n",
              "// This uses a Promise to block the python side on completion of each step,\n",
              "// then passes the result of the previous step as the input to the next step.\n",
              "function _uploadFilesContinue(outputId) {\n",
              "  const outputElement = document.getElementById(outputId);\n",
              "  const steps = outputElement.steps;\n",
              "\n",
              "  const next = steps.next(outputElement.lastPromiseValue);\n",
              "  return Promise.resolve(next.value.promise).then((value) => {\n",
              "    // Cache the last promise value to make it available to the next\n",
              "    // step of the generator.\n",
              "    outputElement.lastPromiseValue = value;\n",
              "    return next.value.response;\n",
              "  });\n",
              "}\n",
              "\n",
              "/**\n",
              " * Generator function which is called between each async step of the upload\n",
              " * process.\n",
              " * @param {string} inputId Element ID of the input file picker element.\n",
              " * @param {string} outputId Element ID of the output display.\n",
              " * @return {!Iterable<!Object>} Iterable of next steps.\n",
              " */\n",
              "function* uploadFilesStep(inputId, outputId) {\n",
              "  const inputElement = document.getElementById(inputId);\n",
              "  inputElement.disabled = false;\n",
              "\n",
              "  const outputElement = document.getElementById(outputId);\n",
              "  outputElement.innerHTML = '';\n",
              "\n",
              "  const pickedPromise = new Promise((resolve) => {\n",
              "    inputElement.addEventListener('change', (e) => {\n",
              "      resolve(e.target.files);\n",
              "    });\n",
              "  });\n",
              "\n",
              "  const cancel = document.createElement('button');\n",
              "  inputElement.parentElement.appendChild(cancel);\n",
              "  cancel.textContent = 'Cancel upload';\n",
              "  const cancelPromise = new Promise((resolve) => {\n",
              "    cancel.onclick = () => {\n",
              "      resolve(null);\n",
              "    };\n",
              "  });\n",
              "\n",
              "  // Wait for the user to pick the files.\n",
              "  const files = yield {\n",
              "    promise: Promise.race([pickedPromise, cancelPromise]),\n",
              "    response: {\n",
              "      action: 'starting',\n",
              "    }\n",
              "  };\n",
              "\n",
              "  cancel.remove();\n",
              "\n",
              "  // Disable the input element since further picks are not allowed.\n",
              "  inputElement.disabled = true;\n",
              "\n",
              "  if (!files) {\n",
              "    return {\n",
              "      response: {\n",
              "        action: 'complete',\n",
              "      }\n",
              "    };\n",
              "  }\n",
              "\n",
              "  for (const file of files) {\n",
              "    const li = document.createElement('li');\n",
              "    li.append(span(file.name, {fontWeight: 'bold'}));\n",
              "    li.append(span(\n",
              "        `(${file.type || 'n/a'}) - ${file.size} bytes, ` +\n",
              "        `last modified: ${\n",
              "            file.lastModifiedDate ? file.lastModifiedDate.toLocaleDateString() :\n",
              "                                    'n/a'} - `));\n",
              "    const percent = span('0% done');\n",
              "    li.appendChild(percent);\n",
              "\n",
              "    outputElement.appendChild(li);\n",
              "\n",
              "    const fileDataPromise = new Promise((resolve) => {\n",
              "      const reader = new FileReader();\n",
              "      reader.onload = (e) => {\n",
              "        resolve(e.target.result);\n",
              "      };\n",
              "      reader.readAsArrayBuffer(file);\n",
              "    });\n",
              "    // Wait for the data to be ready.\n",
              "    let fileData = yield {\n",
              "      promise: fileDataPromise,\n",
              "      response: {\n",
              "        action: 'continue',\n",
              "      }\n",
              "    };\n",
              "\n",
              "    // Use a chunked sending to avoid message size limits. See b/62115660.\n",
              "    let position = 0;\n",
              "    do {\n",
              "      const length = Math.min(fileData.byteLength - position, MAX_PAYLOAD_SIZE);\n",
              "      const chunk = new Uint8Array(fileData, position, length);\n",
              "      position += length;\n",
              "\n",
              "      const base64 = btoa(String.fromCharCode.apply(null, chunk));\n",
              "      yield {\n",
              "        response: {\n",
              "          action: 'append',\n",
              "          file: file.name,\n",
              "          data: base64,\n",
              "        },\n",
              "      };\n",
              "\n",
              "      let percentDone = fileData.byteLength === 0 ?\n",
              "          100 :\n",
              "          Math.round((position / fileData.byteLength) * 100);\n",
              "      percent.textContent = `${percentDone}% done`;\n",
              "\n",
              "    } while (position < fileData.byteLength);\n",
              "  }\n",
              "\n",
              "  // All done.\n",
              "  yield {\n",
              "    response: {\n",
              "      action: 'complete',\n",
              "    }\n",
              "  };\n",
              "}\n",
              "\n",
              "scope.google = scope.google || {};\n",
              "scope.google.colab = scope.google.colab || {};\n",
              "scope.google.colab._files = {\n",
              "  _uploadFiles,\n",
              "  _uploadFilesContinue,\n",
              "};\n",
              "})(self);\n",
              "</script> "
            ]
          },
          "metadata": {}
        },
        {
          "output_type": "stream",
          "name": "stdout",
          "text": [
            "Saving Bird_Monitoring_Data_GRASSLAND.XLSX to Bird_Monitoring_Data_GRASSLAND (1).XLSX\n",
            "Saving Bird_Monitoring_Data_FOREST.XLSX to Bird_Monitoring_Data_FOREST (1).XLSX\n"
          ]
        }
      ],
      "source": [
        "from google.colab import files\n",
        "uploaded = files.upload()"
      ]
    },
    {
      "cell_type": "code",
      "source": [
        "import pandas as pd\n",
        "import numpy as np\n",
        "import matplotlib.pyplot as plt\n",
        "import seaborn as sns\n",
        "import plotly.express as px\n",
        "import os"
      ],
      "metadata": {
        "id": "S0nRlJJTeRvq"
      },
      "execution_count": null,
      "outputs": []
    },
    {
      "cell_type": "code",
      "source": [
        "!pip install plotly openpyxl"
      ],
      "metadata": {
        "colab": {
          "base_uri": "https://localhost:8080/"
        },
        "id": "ZV5mdpIRff9H",
        "outputId": "09439751-f8fc-4c6e-8e2c-d735f8d28db5"
      },
      "execution_count": null,
      "outputs": [
        {
          "output_type": "stream",
          "name": "stdout",
          "text": [
            "Requirement already satisfied: plotly in /usr/local/lib/python3.11/dist-packages (5.24.1)\n",
            "Requirement already satisfied: openpyxl in /usr/local/lib/python3.11/dist-packages (3.1.5)\n",
            "Requirement already satisfied: tenacity>=6.2.0 in /usr/local/lib/python3.11/dist-packages (from plotly) (8.5.0)\n",
            "Requirement already satisfied: packaging in /usr/local/lib/python3.11/dist-packages (from plotly) (25.0)\n",
            "Requirement already satisfied: et-xmlfile in /usr/local/lib/python3.11/dist-packages (from openpyxl) (2.0.0)\n"
          ]
        }
      ]
    },
    {
      "cell_type": "code",
      "source": [
        "# Load all sheets from the Forest dataset\n",
        "forest_data = pd.read_excel(\"Bird_Monitoring_Data_FOREST.XLSX\", sheet_name=None)\n",
        "grassland_data = pd.read_excel(\"Bird_Monitoring_Data_GRASSLAND.XLSX\", sheet_name=None)\n",
        "\n",
        "# Combine all sheets into one DataFrame\n",
        "df_forest = pd.concat(forest_data.values(), ignore_index=True)\n",
        "df_grassland = pd.concat(grassland_data.values(), ignore_index=True)"
      ],
      "metadata": {
        "colab": {
          "base_uri": "https://localhost:8080/"
        },
        "id": "7_fQA6phfi9c",
        "outputId": "e049b2ac-983f-4c8f-f002-59e16c2da1b3"
      },
      "execution_count": null,
      "outputs": [
        {
          "output_type": "stream",
          "name": "stderr",
          "text": [
            "/tmp/ipython-input-4004321372.py:7: FutureWarning: The behavior of DataFrame concatenation with empty or all-NA entries is deprecated. In a future version, this will no longer exclude empty or all-NA columns when determining the result dtypes. To retain the old behavior, exclude the relevant entries before the concat operation.\n",
            "  df_grassland = pd.concat(grassland_data.values(), ignore_index=True)\n"
          ]
        }
      ]
    },
    {
      "cell_type": "code",
      "source": [
        "# Add a Habitat column\n",
        "df_forest['Habitat'] = 'Forest'\n",
        "df_grassland['Habitat'] = 'Grassland'\n",
        "\n",
        "# Combine both\n",
        "df = pd.concat([df_forest, df_grassland], ignore_index=True)"
      ],
      "metadata": {
        "id": "kDJn8znofquN"
      },
      "execution_count": null,
      "outputs": []
    },
    {
      "cell_type": "code",
      "source": [
        "# Check missing data summary\n",
        "missing_summary = df.isnull().sum()\n",
        "missing_percent = (missing_summary / len(df)) * 100\n",
        "missing_df = pd.DataFrame({'Missing Values': missing_summary, 'Percent': missing_percent})\n",
        "missing_df = missing_df[missing_df['Missing Values'] > 0].sort_values(by='Percent', ascending=False)\n",
        "missing_df"
      ],
      "metadata": {
        "colab": {
          "base_uri": "https://localhost:8080/",
          "height": 331
        },
        "id": "XYcaZxr2ftue",
        "outputId": "7f207d43-e2d3-4a28-8014-e767c7890b24"
      },
      "execution_count": null,
      "outputs": [
        {
          "output_type": "execute_result",
          "data": {
            "text/plain": [
              "                Missing Values    Percent\n",
              "Sub_Unit_Code            16355  95.772091\n",
              "TaxonCode                 8548  50.055630\n",
              "Previously_Obs            8546  50.043919\n",
              "Site_Name                 8531  49.956081\n",
              "NPSTaxonCode              8531  49.956081\n",
              "Sex                       5183  30.350764\n",
              "Distance                  1486   8.701763\n",
              "AcceptedTSN                 33   0.193242\n",
              "ID_Method                    2   0.011712"
            ],
            "text/html": [
              "\n",
              "  <div id=\"df-440ee8ef-5d74-4e94-a502-9141ddcdb659\" class=\"colab-df-container\">\n",
              "    <div>\n",
              "<style scoped>\n",
              "    .dataframe tbody tr th:only-of-type {\n",
              "        vertical-align: middle;\n",
              "    }\n",
              "\n",
              "    .dataframe tbody tr th {\n",
              "        vertical-align: top;\n",
              "    }\n",
              "\n",
              "    .dataframe thead th {\n",
              "        text-align: right;\n",
              "    }\n",
              "</style>\n",
              "<table border=\"1\" class=\"dataframe\">\n",
              "  <thead>\n",
              "    <tr style=\"text-align: right;\">\n",
              "      <th></th>\n",
              "      <th>Missing Values</th>\n",
              "      <th>Percent</th>\n",
              "    </tr>\n",
              "  </thead>\n",
              "  <tbody>\n",
              "    <tr>\n",
              "      <th>Sub_Unit_Code</th>\n",
              "      <td>16355</td>\n",
              "      <td>95.772091</td>\n",
              "    </tr>\n",
              "    <tr>\n",
              "      <th>TaxonCode</th>\n",
              "      <td>8548</td>\n",
              "      <td>50.055630</td>\n",
              "    </tr>\n",
              "    <tr>\n",
              "      <th>Previously_Obs</th>\n",
              "      <td>8546</td>\n",
              "      <td>50.043919</td>\n",
              "    </tr>\n",
              "    <tr>\n",
              "      <th>Site_Name</th>\n",
              "      <td>8531</td>\n",
              "      <td>49.956081</td>\n",
              "    </tr>\n",
              "    <tr>\n",
              "      <th>NPSTaxonCode</th>\n",
              "      <td>8531</td>\n",
              "      <td>49.956081</td>\n",
              "    </tr>\n",
              "    <tr>\n",
              "      <th>Sex</th>\n",
              "      <td>5183</td>\n",
              "      <td>30.350764</td>\n",
              "    </tr>\n",
              "    <tr>\n",
              "      <th>Distance</th>\n",
              "      <td>1486</td>\n",
              "      <td>8.701763</td>\n",
              "    </tr>\n",
              "    <tr>\n",
              "      <th>AcceptedTSN</th>\n",
              "      <td>33</td>\n",
              "      <td>0.193242</td>\n",
              "    </tr>\n",
              "    <tr>\n",
              "      <th>ID_Method</th>\n",
              "      <td>2</td>\n",
              "      <td>0.011712</td>\n",
              "    </tr>\n",
              "  </tbody>\n",
              "</table>\n",
              "</div>\n",
              "    <div class=\"colab-df-buttons\">\n",
              "\n",
              "  <div class=\"colab-df-container\">\n",
              "    <button class=\"colab-df-convert\" onclick=\"convertToInteractive('df-440ee8ef-5d74-4e94-a502-9141ddcdb659')\"\n",
              "            title=\"Convert this dataframe to an interactive table.\"\n",
              "            style=\"display:none;\">\n",
              "\n",
              "  <svg xmlns=\"http://www.w3.org/2000/svg\" height=\"24px\" viewBox=\"0 -960 960 960\">\n",
              "    <path d=\"M120-120v-720h720v720H120Zm60-500h600v-160H180v160Zm220 220h160v-160H400v160Zm0 220h160v-160H400v160ZM180-400h160v-160H180v160Zm440 0h160v-160H620v160ZM180-180h160v-160H180v160Zm440 0h160v-160H620v160Z\"/>\n",
              "  </svg>\n",
              "    </button>\n",
              "\n",
              "  <style>\n",
              "    .colab-df-container {\n",
              "      display:flex;\n",
              "      gap: 12px;\n",
              "    }\n",
              "\n",
              "    .colab-df-convert {\n",
              "      background-color: #E8F0FE;\n",
              "      border: none;\n",
              "      border-radius: 50%;\n",
              "      cursor: pointer;\n",
              "      display: none;\n",
              "      fill: #1967D2;\n",
              "      height: 32px;\n",
              "      padding: 0 0 0 0;\n",
              "      width: 32px;\n",
              "    }\n",
              "\n",
              "    .colab-df-convert:hover {\n",
              "      background-color: #E2EBFA;\n",
              "      box-shadow: 0px 1px 2px rgba(60, 64, 67, 0.3), 0px 1px 3px 1px rgba(60, 64, 67, 0.15);\n",
              "      fill: #174EA6;\n",
              "    }\n",
              "\n",
              "    .colab-df-buttons div {\n",
              "      margin-bottom: 4px;\n",
              "    }\n",
              "\n",
              "    [theme=dark] .colab-df-convert {\n",
              "      background-color: #3B4455;\n",
              "      fill: #D2E3FC;\n",
              "    }\n",
              "\n",
              "    [theme=dark] .colab-df-convert:hover {\n",
              "      background-color: #434B5C;\n",
              "      box-shadow: 0px 1px 3px 1px rgba(0, 0, 0, 0.15);\n",
              "      filter: drop-shadow(0px 1px 2px rgba(0, 0, 0, 0.3));\n",
              "      fill: #FFFFFF;\n",
              "    }\n",
              "  </style>\n",
              "\n",
              "    <script>\n",
              "      const buttonEl =\n",
              "        document.querySelector('#df-440ee8ef-5d74-4e94-a502-9141ddcdb659 button.colab-df-convert');\n",
              "      buttonEl.style.display =\n",
              "        google.colab.kernel.accessAllowed ? 'block' : 'none';\n",
              "\n",
              "      async function convertToInteractive(key) {\n",
              "        const element = document.querySelector('#df-440ee8ef-5d74-4e94-a502-9141ddcdb659');\n",
              "        const dataTable =\n",
              "          await google.colab.kernel.invokeFunction('convertToInteractive',\n",
              "                                                    [key], {});\n",
              "        if (!dataTable) return;\n",
              "\n",
              "        const docLinkHtml = 'Like what you see? Visit the ' +\n",
              "          '<a target=\"_blank\" href=https://colab.research.google.com/notebooks/data_table.ipynb>data table notebook</a>'\n",
              "          + ' to learn more about interactive tables.';\n",
              "        element.innerHTML = '';\n",
              "        dataTable['output_type'] = 'display_data';\n",
              "        await google.colab.output.renderOutput(dataTable, element);\n",
              "        const docLink = document.createElement('div');\n",
              "        docLink.innerHTML = docLinkHtml;\n",
              "        element.appendChild(docLink);\n",
              "      }\n",
              "    </script>\n",
              "  </div>\n",
              "\n",
              "\n",
              "    <div id=\"df-2335179a-1289-4027-b7f0-9a61b79b4161\">\n",
              "      <button class=\"colab-df-quickchart\" onclick=\"quickchart('df-2335179a-1289-4027-b7f0-9a61b79b4161')\"\n",
              "                title=\"Suggest charts\"\n",
              "                style=\"display:none;\">\n",
              "\n",
              "<svg xmlns=\"http://www.w3.org/2000/svg\" height=\"24px\"viewBox=\"0 0 24 24\"\n",
              "     width=\"24px\">\n",
              "    <g>\n",
              "        <path d=\"M19 3H5c-1.1 0-2 .9-2 2v14c0 1.1.9 2 2 2h14c1.1 0 2-.9 2-2V5c0-1.1-.9-2-2-2zM9 17H7v-7h2v7zm4 0h-2V7h2v10zm4 0h-2v-4h2v4z\"/>\n",
              "    </g>\n",
              "</svg>\n",
              "      </button>\n",
              "\n",
              "<style>\n",
              "  .colab-df-quickchart {\n",
              "      --bg-color: #E8F0FE;\n",
              "      --fill-color: #1967D2;\n",
              "      --hover-bg-color: #E2EBFA;\n",
              "      --hover-fill-color: #174EA6;\n",
              "      --disabled-fill-color: #AAA;\n",
              "      --disabled-bg-color: #DDD;\n",
              "  }\n",
              "\n",
              "  [theme=dark] .colab-df-quickchart {\n",
              "      --bg-color: #3B4455;\n",
              "      --fill-color: #D2E3FC;\n",
              "      --hover-bg-color: #434B5C;\n",
              "      --hover-fill-color: #FFFFFF;\n",
              "      --disabled-bg-color: #3B4455;\n",
              "      --disabled-fill-color: #666;\n",
              "  }\n",
              "\n",
              "  .colab-df-quickchart {\n",
              "    background-color: var(--bg-color);\n",
              "    border: none;\n",
              "    border-radius: 50%;\n",
              "    cursor: pointer;\n",
              "    display: none;\n",
              "    fill: var(--fill-color);\n",
              "    height: 32px;\n",
              "    padding: 0;\n",
              "    width: 32px;\n",
              "  }\n",
              "\n",
              "  .colab-df-quickchart:hover {\n",
              "    background-color: var(--hover-bg-color);\n",
              "    box-shadow: 0 1px 2px rgba(60, 64, 67, 0.3), 0 1px 3px 1px rgba(60, 64, 67, 0.15);\n",
              "    fill: var(--button-hover-fill-color);\n",
              "  }\n",
              "\n",
              "  .colab-df-quickchart-complete:disabled,\n",
              "  .colab-df-quickchart-complete:disabled:hover {\n",
              "    background-color: var(--disabled-bg-color);\n",
              "    fill: var(--disabled-fill-color);\n",
              "    box-shadow: none;\n",
              "  }\n",
              "\n",
              "  .colab-df-spinner {\n",
              "    border: 2px solid var(--fill-color);\n",
              "    border-color: transparent;\n",
              "    border-bottom-color: var(--fill-color);\n",
              "    animation:\n",
              "      spin 1s steps(1) infinite;\n",
              "  }\n",
              "\n",
              "  @keyframes spin {\n",
              "    0% {\n",
              "      border-color: transparent;\n",
              "      border-bottom-color: var(--fill-color);\n",
              "      border-left-color: var(--fill-color);\n",
              "    }\n",
              "    20% {\n",
              "      border-color: transparent;\n",
              "      border-left-color: var(--fill-color);\n",
              "      border-top-color: var(--fill-color);\n",
              "    }\n",
              "    30% {\n",
              "      border-color: transparent;\n",
              "      border-left-color: var(--fill-color);\n",
              "      border-top-color: var(--fill-color);\n",
              "      border-right-color: var(--fill-color);\n",
              "    }\n",
              "    40% {\n",
              "      border-color: transparent;\n",
              "      border-right-color: var(--fill-color);\n",
              "      border-top-color: var(--fill-color);\n",
              "    }\n",
              "    60% {\n",
              "      border-color: transparent;\n",
              "      border-right-color: var(--fill-color);\n",
              "    }\n",
              "    80% {\n",
              "      border-color: transparent;\n",
              "      border-right-color: var(--fill-color);\n",
              "      border-bottom-color: var(--fill-color);\n",
              "    }\n",
              "    90% {\n",
              "      border-color: transparent;\n",
              "      border-bottom-color: var(--fill-color);\n",
              "    }\n",
              "  }\n",
              "</style>\n",
              "\n",
              "      <script>\n",
              "        async function quickchart(key) {\n",
              "          const quickchartButtonEl =\n",
              "            document.querySelector('#' + key + ' button');\n",
              "          quickchartButtonEl.disabled = true;  // To prevent multiple clicks.\n",
              "          quickchartButtonEl.classList.add('colab-df-spinner');\n",
              "          try {\n",
              "            const charts = await google.colab.kernel.invokeFunction(\n",
              "                'suggestCharts', [key], {});\n",
              "          } catch (error) {\n",
              "            console.error('Error during call to suggestCharts:', error);\n",
              "          }\n",
              "          quickchartButtonEl.classList.remove('colab-df-spinner');\n",
              "          quickchartButtonEl.classList.add('colab-df-quickchart-complete');\n",
              "        }\n",
              "        (() => {\n",
              "          let quickchartButtonEl =\n",
              "            document.querySelector('#df-2335179a-1289-4027-b7f0-9a61b79b4161 button');\n",
              "          quickchartButtonEl.style.display =\n",
              "            google.colab.kernel.accessAllowed ? 'block' : 'none';\n",
              "        })();\n",
              "      </script>\n",
              "    </div>\n",
              "\n",
              "  <div id=\"id_c2e14238-78a3-44c0-801e-2d07164f7040\">\n",
              "    <style>\n",
              "      .colab-df-generate {\n",
              "        background-color: #E8F0FE;\n",
              "        border: none;\n",
              "        border-radius: 50%;\n",
              "        cursor: pointer;\n",
              "        display: none;\n",
              "        fill: #1967D2;\n",
              "        height: 32px;\n",
              "        padding: 0 0 0 0;\n",
              "        width: 32px;\n",
              "      }\n",
              "\n",
              "      .colab-df-generate:hover {\n",
              "        background-color: #E2EBFA;\n",
              "        box-shadow: 0px 1px 2px rgba(60, 64, 67, 0.3), 0px 1px 3px 1px rgba(60, 64, 67, 0.15);\n",
              "        fill: #174EA6;\n",
              "      }\n",
              "\n",
              "      [theme=dark] .colab-df-generate {\n",
              "        background-color: #3B4455;\n",
              "        fill: #D2E3FC;\n",
              "      }\n",
              "\n",
              "      [theme=dark] .colab-df-generate:hover {\n",
              "        background-color: #434B5C;\n",
              "        box-shadow: 0px 1px 3px 1px rgba(0, 0, 0, 0.15);\n",
              "        filter: drop-shadow(0px 1px 2px rgba(0, 0, 0, 0.3));\n",
              "        fill: #FFFFFF;\n",
              "      }\n",
              "    </style>\n",
              "    <button class=\"colab-df-generate\" onclick=\"generateWithVariable('missing_df')\"\n",
              "            title=\"Generate code using this dataframe.\"\n",
              "            style=\"display:none;\">\n",
              "\n",
              "  <svg xmlns=\"http://www.w3.org/2000/svg\" height=\"24px\"viewBox=\"0 0 24 24\"\n",
              "       width=\"24px\">\n",
              "    <path d=\"M7,19H8.4L18.45,9,17,7.55,7,17.6ZM5,21V16.75L18.45,3.32a2,2,0,0,1,2.83,0l1.4,1.43a1.91,1.91,0,0,1,.58,1.4,1.91,1.91,0,0,1-.58,1.4L9.25,21ZM18.45,9,17,7.55Zm-12,3A5.31,5.31,0,0,0,4.9,8.1,5.31,5.31,0,0,0,1,6.5,5.31,5.31,0,0,0,4.9,4.9,5.31,5.31,0,0,0,6.5,1,5.31,5.31,0,0,0,8.1,4.9,5.31,5.31,0,0,0,12,6.5,5.46,5.46,0,0,0,6.5,12Z\"/>\n",
              "  </svg>\n",
              "    </button>\n",
              "    <script>\n",
              "      (() => {\n",
              "      const buttonEl =\n",
              "        document.querySelector('#id_c2e14238-78a3-44c0-801e-2d07164f7040 button.colab-df-generate');\n",
              "      buttonEl.style.display =\n",
              "        google.colab.kernel.accessAllowed ? 'block' : 'none';\n",
              "\n",
              "      buttonEl.onclick = () => {\n",
              "        google.colab.notebook.generateWithVariable('missing_df');\n",
              "      }\n",
              "      })();\n",
              "    </script>\n",
              "  </div>\n",
              "\n",
              "    </div>\n",
              "  </div>\n"
            ],
            "application/vnd.google.colaboratory.intrinsic+json": {
              "type": "dataframe",
              "variable_name": "missing_df",
              "summary": "{\n  \"name\": \"missing_df\",\n  \"rows\": 9,\n  \"fields\": [\n    {\n      \"column\": \"Missing Values\",\n      \"properties\": {\n        \"dtype\": \"number\",\n        \"std\": 5297,\n        \"min\": 2,\n        \"max\": 16355,\n        \"num_unique_values\": 8,\n        \"samples\": [\n          8548,\n          1486,\n          16355\n        ],\n        \"semantic_type\": \"\",\n        \"description\": \"\"\n      }\n    },\n    {\n      \"column\": \"Percent\",\n      \"properties\": {\n        \"dtype\": \"number\",\n        \"std\": 31.019918106373066,\n        \"min\": 0.011711658956491188,\n        \"max\": 95.77209111670668,\n        \"num_unique_values\": 8,\n        \"samples\": [\n          50.05563038004334,\n          8.701762604672952,\n          95.77209111670668\n        ],\n        \"semantic_type\": \"\",\n        \"description\": \"\"\n      }\n    }\n  ]\n}"
            }
          },
          "metadata": {},
          "execution_count": 34
        }
      ]
    },
    {
      "cell_type": "code",
      "source": [
        "# Drop critical missing data\n",
        "df.dropna(subset=['Scientific_Name', 'Date', 'Plot_Name'], inplace=True)\n",
        "\n",
        "# Fill environmental columns with median\n",
        "for col in ['Temperature', 'Humidity']:\n",
        "    df[col] = df[col].fillna(df[col].median())\n",
        "\n",
        "# Optional: Fill categorical with mode\n",
        "categorical_cols = ['Sky', 'Wind', 'Disturbance', 'Sex', 'ID_Method']\n",
        "for col in categorical_cols:\n",
        "    df[col] = df[col].fillna(df[col].mode()[0])"
      ],
      "metadata": {
        "id": "eWSDKzxaf_wC"
      },
      "execution_count": null,
      "outputs": []
    },
    {
      "cell_type": "code",
      "source": [
        "# Ensure datetime is in correct format\n",
        "df['Date'] = pd.to_datetime(df['Date'], errors='coerce')\n",
        "\n",
        "# Add temporal features\n",
        "df['Year'] = df['Date'].dt.year\n",
        "df['Month'] = df['Date'].dt.month\n",
        "df['Day'] = df['Date'].dt.day\n",
        "df['Season'] = df['Month'].apply(lambda x: 'Winter' if x in [12,1,2] else\n",
        "                                             'Spring' if x in [3,4,5] else\n",
        "                                             'Summer' if x in [6,7,8] else 'Fall')\n",
        "\n",
        "# Clean 'Sex' column to use consistent values\n",
        "df['Sex'] = df['Sex'].str.title().replace({'Undet': 'Undetermined', 'U': 'Undetermined'})\n",
        "\n",
        "# Clean boolean-like columns\n",
        "df['Flyover_Observed'] = df['Flyover_Observed'].astype(str).str.upper().replace({'TRUE': True, 'FALSE': False})\n",
        "df['PIF_Watchlist_Status'] = df['PIF_Watchlist_Status'].astype(str).str.upper().replace({'TRUE': True, 'FALSE': False})\n",
        "df['Regional_Stewardship_Status'] = df['Regional_Stewardship_Status'].astype(str).str.upper().replace({'TRUE': True, 'FALSE': False})"
      ],
      "metadata": {
        "colab": {
          "base_uri": "https://localhost:8080/"
        },
        "id": "9DgLSEMGgHy7",
        "outputId": "ea5a7925-348e-419f-fb27-867ea98dd053"
      },
      "execution_count": null,
      "outputs": [
        {
          "output_type": "stream",
          "name": "stderr",
          "text": [
            "/tmp/ipython-input-416697430.py:16: FutureWarning: Downcasting behavior in `replace` is deprecated and will be removed in a future version. To retain the old behavior, explicitly call `result.infer_objects(copy=False)`. To opt-in to the future behavior, set `pd.set_option('future.no_silent_downcasting', True)`\n",
            "  df['Flyover_Observed'] = df['Flyover_Observed'].astype(str).str.upper().replace({'TRUE': True, 'FALSE': False})\n",
            "/tmp/ipython-input-416697430.py:17: FutureWarning: Downcasting behavior in `replace` is deprecated and will be removed in a future version. To retain the old behavior, explicitly call `result.infer_objects(copy=False)`. To opt-in to the future behavior, set `pd.set_option('future.no_silent_downcasting', True)`\n",
            "  df['PIF_Watchlist_Status'] = df['PIF_Watchlist_Status'].astype(str).str.upper().replace({'TRUE': True, 'FALSE': False})\n",
            "/tmp/ipython-input-416697430.py:18: FutureWarning: Downcasting behavior in `replace` is deprecated and will be removed in a future version. To retain the old behavior, explicitly call `result.infer_objects(copy=False)`. To opt-in to the future behavior, set `pd.set_option('future.no_silent_downcasting', True)`\n",
            "  df['Regional_Stewardship_Status'] = df['Regional_Stewardship_Status'].astype(str).str.upper().replace({'TRUE': True, 'FALSE': False})\n"
          ]
        }
      ]
    },
    {
      "cell_type": "code",
      "source": [
        "# Keep only relevant columns\n",
        "columns_to_keep = [\n",
        "    'Admin_Unit_Code', 'Site_Name', 'Plot_Name', 'Location_Type', 'Habitat',\n",
        "    'Date', 'Year', 'Month', 'Season', 'Start_Time', 'End_Time', 'Observer', 'Visit',\n",
        "    'Interval_Length', 'ID_Method', 'Distance', 'Flyover_Observed', 'Sex',\n",
        "    'Common_Name', 'Scientific_Name', 'AcceptedTSN', 'NPSTaxonCode', 'AOU_Code',\n",
        "    'PIF_Watchlist_Status', 'Regional_Stewardship_Status',\n",
        "    'Temperature', 'Humidity', 'Sky', 'Wind', 'Disturbance',\n",
        "    'Initial_Three_Min_Cnt'\n",
        "]\n",
        "\n",
        "df = df[columns_to_keep]"
      ],
      "metadata": {
        "id": "58NK-dBLgMcG"
      },
      "execution_count": null,
      "outputs": []
    },
    {
      "cell_type": "code",
      "source": [
        "# Preview cleaned dataset\n",
        "df.info()\n",
        "\n",
        "# Save cleaned data (optional)\n",
        "df.to_csv(\"cleaned_bird_data.csv\", index=False)"
      ],
      "metadata": {
        "colab": {
          "base_uri": "https://localhost:8080/"
        },
        "id": "vaiyb27DgQuI",
        "outputId": "6a25e847-0990-47d9-a54f-0dcff7cf7565"
      },
      "execution_count": null,
      "outputs": [
        {
          "output_type": "stream",
          "name": "stdout",
          "text": [
            "<class 'pandas.core.frame.DataFrame'>\n",
            "RangeIndex: 17077 entries, 0 to 17076\n",
            "Data columns (total 31 columns):\n",
            " #   Column                       Non-Null Count  Dtype         \n",
            "---  ------                       --------------  -----         \n",
            " 0   Admin_Unit_Code              17077 non-null  object        \n",
            " 1   Site_Name                    8546 non-null   object        \n",
            " 2   Plot_Name                    17077 non-null  object        \n",
            " 3   Location_Type                17077 non-null  object        \n",
            " 4   Habitat                      17077 non-null  object        \n",
            " 5   Date                         17077 non-null  datetime64[ns]\n",
            " 6   Year                         17077 non-null  int32         \n",
            " 7   Month                        17077 non-null  int32         \n",
            " 8   Season                       17077 non-null  object        \n",
            " 9   Start_Time                   17077 non-null  object        \n",
            " 10  End_Time                     17077 non-null  object        \n",
            " 11  Observer                     17077 non-null  object        \n",
            " 12  Visit                        17077 non-null  object        \n",
            " 13  Interval_Length              17077 non-null  object        \n",
            " 14  ID_Method                    17077 non-null  object        \n",
            " 15  Distance                     15591 non-null  object        \n",
            " 16  Flyover_Observed             17077 non-null  bool          \n",
            " 17  Sex                          17077 non-null  object        \n",
            " 18  Common_Name                  17077 non-null  object        \n",
            " 19  Scientific_Name              17077 non-null  object        \n",
            " 20  AcceptedTSN                  17044 non-null  float64       \n",
            " 21  NPSTaxonCode                 8546 non-null   float64       \n",
            " 22  AOU_Code                     17077 non-null  object        \n",
            " 23  PIF_Watchlist_Status         17077 non-null  bool          \n",
            " 24  Regional_Stewardship_Status  17077 non-null  bool          \n",
            " 25  Temperature                  17077 non-null  float64       \n",
            " 26  Humidity                     17077 non-null  float64       \n",
            " 27  Sky                          17077 non-null  object        \n",
            " 28  Wind                         17077 non-null  object        \n",
            " 29  Disturbance                  17077 non-null  object        \n",
            " 30  Initial_Three_Min_Cnt        17077 non-null  object        \n",
            "dtypes: bool(3), datetime64[ns](1), float64(4), int32(2), object(21)\n",
            "memory usage: 3.6+ MB\n"
          ]
        }
      ]
    },
    {
      "cell_type": "markdown",
      "source": [
        "***Distribution of Species Across Administrative Units and Habitat Types:***"
      ],
      "metadata": {
        "id": "ZrvuLk-Sh7pg"
      }
    },
    {
      "cell_type": "code",
      "source": [
        "# Species count per Admin Unit\n",
        "admin_species = df.groupby('Admin_Unit_Code')['Scientific_Name'].nunique().sort_values(ascending=False)\n",
        "print(admin_species)\n",
        "\n",
        "# Species count per Habitat\n",
        "habitat_species = df.groupby('Habitat')['Scientific_Name'].nunique()\n",
        "print(habitat_species)"
      ],
      "metadata": {
        "colab": {
          "base_uri": "https://localhost:8080/"
        },
        "id": "hJaSyacOhm2u",
        "outputId": "01e26935-a882-4661-c981-19e2096585a8"
      },
      "execution_count": null,
      "outputs": [
        {
          "output_type": "stream",
          "name": "stdout",
          "text": [
            "Admin_Unit_Code\n",
            "MONO    100\n",
            "MANA     81\n",
            "ANTI     81\n",
            "CHOH     80\n",
            "NACE     66\n",
            "HAFE     55\n",
            "PRWI     54\n",
            "GWMP     49\n",
            "CATO     46\n",
            "ROCR     45\n",
            "WOTR     27\n",
            "Name: Scientific_Name, dtype: int64\n",
            "Habitat\n",
            "Forest       108\n",
            "Grassland    107\n",
            "Name: Scientific_Name, dtype: int64\n"
          ]
        }
      ]
    },
    {
      "cell_type": "markdown",
      "source": [
        "# **Temporal Analysis**\n",
        "***SEASONAL TRENDS: Observation Frequency by Year, Month, and Season***"
      ],
      "metadata": {
        "id": "i653Tpp-iQGw"
      }
    },
    {
      "cell_type": "code",
      "source": [
        "# Yearly observations\n",
        "yearly_obs = df['Year'].value_counts().sort_index()\n",
        "print(yearly_obs)\n",
        "\n",
        "# Monthly observations\n",
        "monthly_obs = df['Month'].value_counts().sort_index()\n",
        "print(monthly_obs)\n",
        "\n",
        "# Seasonal observations\n",
        "seasonal_obs = df['Season'].value_counts()\n",
        "print(seasonal_obs)"
      ],
      "metadata": {
        "colab": {
          "base_uri": "https://localhost:8080/"
        },
        "id": "vxMZvvV6hsh1",
        "outputId": "26c8d381-5ace-49eb-f996-bd1706a246a4"
      },
      "execution_count": null,
      "outputs": [
        {
          "output_type": "stream",
          "name": "stdout",
          "text": [
            "Year\n",
            "2018    17077\n",
            "Name: count, dtype: int64\n",
            "Month\n",
            "5    5596\n",
            "6    6596\n",
            "7    4885\n",
            "Name: count, dtype: int64\n",
            "Season\n",
            "Summer    11481\n",
            "Spring     5596\n",
            "Name: count, dtype: int64\n"
          ]
        }
      ]
    },
    {
      "cell_type": "markdown",
      "source": [
        "***OBSERVATION TIME ANALYSIS: to determine if specific time windows correlate with higher bird activity***"
      ],
      "metadata": {
        "id": "wouE6NWVik5V"
      }
    },
    {
      "cell_type": "code",
      "source": [
        "# Convert Start_Time and End_Time to datetime if needed (example)\n",
        "df['Start_Time'] = pd.to_datetime(df['Start_Time'], errors='coerce').dt.time\n",
        "df['End_Time'] = pd.to_datetime(df['End_Time'], errors='coerce').dt.time\n",
        "\n",
        "# Explore time ranges with most bird activity\n",
        "activity_by_time = df.groupby('Start_Time')['Scientific_Name'].count().sort_values(ascending=False).head(10)\n",
        "print(activity_by_time)"
      ],
      "metadata": {
        "colab": {
          "base_uri": "https://localhost:8080/"
        },
        "id": "tp6b4JnYi4jk",
        "outputId": "117d01d1-adab-4e11-d035-3ab5d0ce18ab"
      },
      "execution_count": null,
      "outputs": [
        {
          "output_type": "stream",
          "name": "stdout",
          "text": [
            "Series([], Name: Scientific_Name, dtype: int64)\n"
          ]
        }
      ]
    },
    {
      "cell_type": "markdown",
      "source": [
        "# **Spatial Analysis**\n",
        "***Location Type Hotspots***"
      ],
      "metadata": {
        "id": "3H3cRTL-jNA1"
      }
    },
    {
      "cell_type": "code",
      "source": [
        "location_type_hotspots = df['Location_Type'].value_counts()\n",
        "print(location_type_hotspots)"
      ],
      "metadata": {
        "colab": {
          "base_uri": "https://localhost:8080/"
        },
        "id": "bW10P9DejmIY",
        "outputId": "7f8b9594-99b4-446c-85be-4593bda1bb3e"
      },
      "execution_count": null,
      "outputs": [
        {
          "output_type": "stream",
          "name": "stdout",
          "text": [
            "Location_Type\n",
            "Forest       8546\n",
            "Grassland    8531\n",
            "Name: count, dtype: int64\n"
          ]
        }
      ]
    },
    {
      "cell_type": "markdown",
      "source": [
        "***Plot-Level Analysis***"
      ],
      "metadata": {
        "id": "bDoIvLxVjsvq"
      }
    },
    {
      "cell_type": "code",
      "source": [
        "plot_analysis = df['Plot_Name'].value_counts().head(10)\n",
        "print(plot_analysis)"
      ],
      "metadata": {
        "colab": {
          "base_uri": "https://localhost:8080/"
        },
        "id": "qAtgpk0gjpTe",
        "outputId": "07d83687-f2cb-45cb-fa8c-1a13c486ff8a"
      },
      "execution_count": null,
      "outputs": [
        {
          "output_type": "stream",
          "name": "stdout",
          "text": [
            "Plot_Name\n",
            "MONO-0054    204\n",
            "MONO-0094    118\n",
            "MANA-0076    116\n",
            "MONO-0102     88\n",
            "MONO-0050     77\n",
            "MONO-0045     73\n",
            "ANTI-0188     72\n",
            "ANTI-0124     71\n",
            "MONO-0083     68\n",
            "MANA-0120     63\n",
            "Name: count, dtype: int64\n"
          ]
        }
      ]
    },
    {
      "cell_type": "markdown",
      "source": [
        "# **Species analysis**\n",
        "***Diversity Metrics***\n"
      ],
      "metadata": {
        "id": "JWzQiH69z-ud"
      }
    },
    {
      "cell_type": "code",
      "source": [
        "species_diversity = df.groupby('Location_Type')['Scientific_Name'].nunique()\n",
        "print(species_diversity)"
      ],
      "metadata": {
        "colab": {
          "base_uri": "https://localhost:8080/"
        },
        "id": "nqRLY2Sy0Yak",
        "outputId": "7a0226f7-c9f3-46b8-c9b5-b837bd98e8ac"
      },
      "execution_count": null,
      "outputs": [
        {
          "output_type": "stream",
          "name": "stdout",
          "text": [
            "Location_Type\n",
            "Forest       108\n",
            "Grassland    107\n",
            "Name: Scientific_Name, dtype: int64\n"
          ]
        }
      ]
    },
    {
      "cell_type": "markdown",
      "source": [
        "***Activity Patterns***"
      ],
      "metadata": {
        "id": "COlGXyO1hjKi"
      }
    },
    {
      "cell_type": "code",
      "source": [
        "interval_counts = df['Interval_Length'].value_counts()\n",
        "id_method_counts = df['ID_Method'].value_counts()\n",
        "print(\"Interval Lengths:\\n\", interval_counts)\n",
        "print(\"Identification Methods:\\n\", id_method_counts)"
      ],
      "metadata": {
        "colab": {
          "base_uri": "https://localhost:8080/"
        },
        "id": "e9mcOy8ghbLJ",
        "outputId": "71207a84-4a90-4b3a-8441-95895a88a144"
      },
      "execution_count": null,
      "outputs": [
        {
          "output_type": "stream",
          "name": "stdout",
          "text": [
            "Interval Lengths:\n",
            " Interval_Length\n",
            "0-2.5 min       8614\n",
            "2.5 - 5 min     3410\n",
            "5 - 7.5 min     2720\n",
            "7.5 - 10 min    2333\n",
            "Name: count, dtype: int64\n",
            "Identification Methods:\n",
            " ID_Method\n",
            "Singing          9865\n",
            "Calling          4061\n",
            "Visualization    3151\n",
            "Name: count, dtype: int64\n"
          ]
        }
      ]
    },
    {
      "cell_type": "markdown",
      "source": [
        "***Sex Ratio***"
      ],
      "metadata": {
        "id": "XJG753vJhxRa"
      }
    },
    {
      "cell_type": "code",
      "source": [
        "sex_ratio = df['Sex'].value_counts()\n",
        "print(sex_ratio)"
      ],
      "metadata": {
        "colab": {
          "base_uri": "https://localhost:8080/"
        },
        "id": "rPMWDvMfhusx",
        "outputId": "00d9ad49-48f8-4106-f28c-ea2fcd0dd7f4"
      },
      "execution_count": null,
      "outputs": [
        {
          "output_type": "stream",
          "name": "stdout",
          "text": [
            "Sex\n",
            "Undetermined    13593\n",
            "Male             3338\n",
            "Female            146\n",
            "Name: count, dtype: int64\n"
          ]
        }
      ]
    },
    {
      "cell_type": "markdown",
      "source": [
        "#**Environmental Conditions**"
      ],
      "metadata": {
        "id": "CWYd2pKQh8tF"
      }
    },
    {
      "cell_type": "markdown",
      "source": [
        "***Temperature and Humidity Effect***"
      ],
      "metadata": {
        "id": "tKpI4mzMiJxX"
      }
    },
    {
      "cell_type": "code",
      "source": [
        "temp_effect = df.groupby('Temperature')['Initial_Three_Min_Cnt'].mean().sort_values(ascending=False).head(10)\n",
        "humidity_effect = df.groupby('Humidity')['Initial_Three_Min_Cnt'].mean().sort_values(ascending=False).head(10)\n",
        "print(\"Temperature Impact on Bird Count:\\n\", temp_effect)\n",
        "print(\"Humidity Impact on Bird Count:\\n\", humidity_effect)"
      ],
      "metadata": {
        "colab": {
          "base_uri": "https://localhost:8080/"
        },
        "id": "LJmXeP7ViPso",
        "outputId": "03f9d186-48b2-4e82-f680-21d5f90dd683"
      },
      "execution_count": null,
      "outputs": [
        {
          "output_type": "stream",
          "name": "stdout",
          "text": [
            "Temperature Impact on Bird Count:\n",
            " Temperature\n",
            "32.599998         1.0\n",
            "35.000000    0.833333\n",
            "13.200000    0.785714\n",
            "33.900002    0.785714\n",
            "26.100000    0.772093\n",
            "11.600000        0.75\n",
            "32.000000    0.714286\n",
            "15.600000    0.711538\n",
            "13.800000    0.703704\n",
            "15.800000    0.692308\n",
            "Name: Initial_Three_Min_Cnt, dtype: object\n",
            "Humidity Impact on Bird Count:\n",
            " Humidity\n",
            "48.000000         1.0\n",
            "53.599998    0.909091\n",
            "52.000000    0.884615\n",
            "49.299999       0.875\n",
            "69.500000    0.818182\n",
            "75.300003    0.804124\n",
            "89.199997         0.8\n",
            "92.300003         0.8\n",
            "38.500000    0.785714\n",
            "41.200001        0.78\n",
            "Name: Initial_Three_Min_Cnt, dtype: object\n"
          ]
        }
      ]
    },
    {
      "cell_type": "markdown",
      "source": [
        "***Disturbance Effect***"
      ],
      "metadata": {
        "id": "W13aazxRiWIL"
      }
    },
    {
      "cell_type": "code",
      "source": [
        "disturbance_effect = df.groupby('Disturbance')['Initial_Three_Min_Cnt'].mean()\n",
        "print(\"Bird count by Disturbance level:\\n\", disturbance_effect)"
      ],
      "metadata": {
        "colab": {
          "base_uri": "https://localhost:8080/"
        },
        "id": "KqlnAxlRlkec",
        "outputId": "36b8f3e5-5b44-47fa-cef6-dba9810fc0d8"
      },
      "execution_count": null,
      "outputs": [
        {
          "output_type": "stream",
          "name": "stdout",
          "text": [
            "Bird count by Disturbance level:\n",
            " Disturbance\n",
            "Moderate effect on count    0.518417\n",
            "No effect on count          0.532819\n",
            "Serious effect on count     0.471816\n",
            "Slight effect on count      0.547407\n",
            "Name: Initial_Three_Min_Cnt, dtype: object\n"
          ]
        }
      ]
    },
    {
      "cell_type": "markdown",
      "source": [
        "# **Distance and Behavior**"
      ],
      "metadata": {
        "id": "oU3f5oKhlrON"
      }
    },
    {
      "cell_type": "markdown",
      "source": [
        "***Distance Analysis***"
      ],
      "metadata": {
        "id": "vnztVt5xl3P1"
      }
    },
    {
      "cell_type": "code",
      "source": [
        "distance_analysis = df.groupby('Distance')['Scientific_Name'].nunique().sort_values(ascending=False)\n",
        "print(distance_analysis)"
      ],
      "metadata": {
        "colab": {
          "base_uri": "https://localhost:8080/"
        },
        "id": "2oJneqvnl7SU",
        "outputId": "48d6a95b-11bf-4e58-a9f8-2db9b882855d"
      },
      "execution_count": null,
      "outputs": [
        {
          "output_type": "stream",
          "name": "stdout",
          "text": [
            "Distance\n",
            "50 - 100 Meters    113\n",
            "<= 50 Meters       110\n",
            "Name: Scientific_Name, dtype: int64\n"
          ]
        }
      ]
    },
    {
      "cell_type": "markdown",
      "source": [
        "***Flyover Frequency***"
      ],
      "metadata": {
        "id": "tXFt5cUVl_TN"
      }
    },
    {
      "cell_type": "code",
      "source": [
        "flyover_counts = df['Flyover_Observed'].value_counts()\n",
        "print(\"Flyover Behavior:\\n\", flyover_counts)"
      ],
      "metadata": {
        "colab": {
          "base_uri": "https://localhost:8080/"
        },
        "id": "-FTJA8QYmDUQ",
        "outputId": "4b62de81-d104-4ff7-c860-d5f450e5ae93"
      },
      "execution_count": null,
      "outputs": [
        {
          "output_type": "stream",
          "name": "stdout",
          "text": [
            "Flyover Behavior:\n",
            " Flyover_Observed\n",
            "False    15591\n",
            "True      1486\n",
            "Name: count, dtype: int64\n"
          ]
        }
      ]
    },
    {
      "cell_type": "markdown",
      "source": [
        "# **Observer Trends**"
      ],
      "metadata": {
        "id": "r_JRP_IEngkl"
      }
    },
    {
      "cell_type": "markdown",
      "source": [
        "***Observer Bias***"
      ],
      "metadata": {
        "id": "e8Y9GdOHnlGy"
      }
    },
    {
      "cell_type": "code",
      "source": [
        "observer_bias = df['Observer'].value_counts().head(10)\n",
        "print(\"Top 10 Observers by number of records:\\n\", observer_bias)"
      ],
      "metadata": {
        "colab": {
          "base_uri": "https://localhost:8080/"
        },
        "id": "JEiwhzz-nonS",
        "outputId": "8b95ab5e-973b-4eb1-dc04-e0575d5b3c08"
      },
      "execution_count": null,
      "outputs": [
        {
          "output_type": "stream",
          "name": "stdout",
          "text": [
            "Top 10 Observers by number of records:\n",
            " Observer\n",
            "Elizabeth Oswald    6391\n",
            "Kimberly Serno      5902\n",
            "Brian Swimelar      4784\n",
            "Name: count, dtype: int64\n"
          ]
        }
      ]
    },
    {
      "cell_type": "markdown",
      "source": [
        "***Visit Patterns***"
      ],
      "metadata": {
        "id": "RNseOV2snsUT"
      }
    },
    {
      "cell_type": "code",
      "source": [
        "visit_patterns = df.groupby('Visit')['Scientific_Name'].nunique()\n",
        "print(\"Species count by Visit number:\\n\", visit_patterns)"
      ],
      "metadata": {
        "colab": {
          "base_uri": "https://localhost:8080/"
        },
        "id": "bJiZrhOjnv9Q",
        "outputId": "a67c300f-c627-4040-fba3-d46b7552b98d"
      },
      "execution_count": null,
      "outputs": [
        {
          "output_type": "stream",
          "name": "stdout",
          "text": [
            "Species count by Visit number:\n",
            " Visit\n",
            "1    119\n",
            "2    100\n",
            "3     74\n",
            "Name: Scientific_Name, dtype: int64\n"
          ]
        }
      ]
    },
    {
      "cell_type": "markdown",
      "source": [
        "# **Conservation Insights**"
      ],
      "metadata": {
        "id": "kzTqSXaBn_Nm"
      }
    },
    {
      "cell_type": "markdown",
      "source": [
        "***Watchlist & Stewardship Status***"
      ],
      "metadata": {
        "id": "YEmwi73XoFX1"
      }
    },
    {
      "cell_type": "code",
      "source": [
        "watchlist_species = df[df['PIF_Watchlist_Status'] == True]['Scientific_Name'].value_counts().head(10)\n",
        "stewardship_species = df[df['Regional_Stewardship_Status'] == True]['Scientific_Name'].value_counts().head(10)\n",
        "\n",
        "print(\"Top 10 Watchlist Species:\\n\", watchlist_species)\n",
        "print(\"Top 10 Stewardship Species:\\n\", stewardship_species)"
      ],
      "metadata": {
        "colab": {
          "base_uri": "https://localhost:8080/"
        },
        "id": "khoX_7TOoKJY",
        "outputId": "a988ba42-edc4-4bbb-8161-f000d2a55509"
      },
      "execution_count": null,
      "outputs": [
        {
          "output_type": "stream",
          "name": "stdout",
          "text": [
            "Top 10 Watchlist Species:\n",
            " Scientific_Name\n",
            "Hylocichla mustelina          309\n",
            "Helmitheros vermivorus         31\n",
            "Setophaga discolor             25\n",
            "Setophaga cerulea               7\n",
            "Oporornis formosus              2\n",
            "Empidonax traillii              2\n",
            "Vermivora cyanoptera            1\n",
            "Melanerpes erythrocephalus      1\n",
            "Name: count, dtype: int64\n",
            "Top 10 Stewardship Species:\n",
            " Scientific_Name\n",
            "Passerina cyanea           635\n",
            "Contopus virens            574\n",
            "Spizella pusilla           542\n",
            "Empidonax virescens        462\n",
            "Poecile carolinensis       376\n",
            "Hylocichla mustelina       309\n",
            "Pipilo erythrophthalmus    263\n",
            "Picoides pubescens         263\n",
            "Piranga olivacea           216\n",
            "Setophaga citrina           64\n",
            "Name: count, dtype: int64\n"
          ]
        }
      ]
    },
    {
      "cell_type": "markdown",
      "source": [
        "***AOU Code Analysis***"
      ],
      "metadata": {
        "id": "XQA8BXveoOYz"
      }
    },
    {
      "cell_type": "code",
      "source": [
        "aou_counts = df['AOU_Code'].value_counts().head(10)\n",
        "print(\"Top AOU Codes:\\n\", aou_counts)"
      ],
      "metadata": {
        "colab": {
          "base_uri": "https://localhost:8080/"
        },
        "id": "coApV5XyoRmh",
        "outputId": "93699945-173e-4371-a207-7ce6739b2065"
      },
      "execution_count": null,
      "outputs": [
        {
          "output_type": "stream",
          "name": "stdout",
          "text": [
            "Top AOU Codes:\n",
            " AOU_Code\n",
            "NOCA    1160\n",
            "CARW    1011\n",
            "REVI     739\n",
            "ETTI     728\n",
            "INBU     635\n",
            "EAWP     574\n",
            "FISP     542\n",
            "EUST     522\n",
            "AMGO     509\n",
            "AMRO     496\n",
            "Name: count, dtype: int64\n"
          ]
        }
      ]
    },
    {
      "cell_type": "code",
      "source": [
        "# Save cleaned dataset\n",
        "df.to_csv(\"cleaned_bird_data.csv\", index=False)\n",
        "\n",
        "# Download it to your computer\n",
        "from google.colab import files\n",
        "files.download(\"cleaned_bird_data.csv\")"
      ],
      "metadata": {
        "id": "mpy94E-BynvZ",
        "outputId": "4d145782-a93c-4899-8dfe-3c470a26719d",
        "colab": {
          "base_uri": "https://localhost:8080/",
          "height": 17
        }
      },
      "execution_count": null,
      "outputs": [
        {
          "output_type": "display_data",
          "data": {
            "text/plain": [
              "<IPython.core.display.Javascript object>"
            ],
            "application/javascript": [
              "\n",
              "    async function download(id, filename, size) {\n",
              "      if (!google.colab.kernel.accessAllowed) {\n",
              "        return;\n",
              "      }\n",
              "      const div = document.createElement('div');\n",
              "      const label = document.createElement('label');\n",
              "      label.textContent = `Downloading \"${filename}\": `;\n",
              "      div.appendChild(label);\n",
              "      const progress = document.createElement('progress');\n",
              "      progress.max = size;\n",
              "      div.appendChild(progress);\n",
              "      document.body.appendChild(div);\n",
              "\n",
              "      const buffers = [];\n",
              "      let downloaded = 0;\n",
              "\n",
              "      const channel = await google.colab.kernel.comms.open(id);\n",
              "      // Send a message to notify the kernel that we're ready.\n",
              "      channel.send({})\n",
              "\n",
              "      for await (const message of channel.messages) {\n",
              "        // Send a message to notify the kernel that we're ready.\n",
              "        channel.send({})\n",
              "        if (message.buffers) {\n",
              "          for (const buffer of message.buffers) {\n",
              "            buffers.push(buffer);\n",
              "            downloaded += buffer.byteLength;\n",
              "            progress.value = downloaded;\n",
              "          }\n",
              "        }\n",
              "      }\n",
              "      const blob = new Blob(buffers, {type: 'application/binary'});\n",
              "      const a = document.createElement('a');\n",
              "      a.href = window.URL.createObjectURL(blob);\n",
              "      a.download = filename;\n",
              "      div.appendChild(a);\n",
              "      a.click();\n",
              "      div.remove();\n",
              "    }\n",
              "  "
            ]
          },
          "metadata": {}
        },
        {
          "output_type": "display_data",
          "data": {
            "text/plain": [
              "<IPython.core.display.Javascript object>"
            ],
            "application/javascript": [
              "download(\"download_be2af1e4-bf4b-4739-bb1a-f3060cc50920\", \"cleaned_bird_data.csv\", 5566510)"
            ]
          },
          "metadata": {}
        }
      ]
    }
  ]
}